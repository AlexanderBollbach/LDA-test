{
 "cells": [
  {
   "cell_type": "markdown",
   "metadata": {},
   "source": [
    "# this is a _test_"
   ]
  },
  {
   "cell_type": "code",
   "execution_count": 1,
   "metadata": {},
   "outputs": [],
   "source": [
    "import pandas as pd"
   ]
  },
  {
   "cell_type": "code",
   "execution_count": 17,
   "metadata": {},
   "outputs": [
    {
     "name": "stdout",
     "output_type": "stream",
     "text": [
      "3\n"
     ]
    }
   ],
   "source": [
    "print(3)"
   ]
  },
  {
   "cell_type": "code",
   "execution_count": null,
   "metadata": {},
   "outputs": [],
   "source": [
    "print(pd)"
   ]
  },
  {
   "cell_type": "code",
   "execution_count": null,
   "metadata": {},
   "outputs": [],
   "source": [
    "data = pd.read_csv('abcnews-date-text.csv', error_bad_lines=False);"
   ]
  },
  {
   "cell_type": "code",
   "execution_count": null,
   "metadata": {},
   "outputs": [],
   "source": [
    "print(data)"
   ]
  },
  {
   "cell_type": "code",
   "execution_count": null,
   "metadata": {},
   "outputs": [],
   "source": [
    "data_text = data[['headline_text']]\n",
    "print(data_text)"
   ]
  },
  {
   "cell_type": "code",
   "execution_count": 6,
   "metadata": {},
   "outputs": [],
   "source": [
    "data_text['index'] = data_text.index\n"
   ]
  },
  {
   "cell_type": "code",
   "execution_count": 7,
   "metadata": {},
   "outputs": [
    {
     "name": "stdout",
     "output_type": "stream",
     "text": [
      "                                             headline_text    index\n",
      "0        aba decides against community broadcasting lic...        0\n",
      "1           act fire witnesses must be aware of defamation        1\n",
      "2           a g calls for infrastructure protection summit        2\n",
      "3                 air nz staff in aust strike for pay rise        3\n",
      "4            air nz strike to affect australian travellers        4\n",
      "5                        ambitious olsson wins triple jump        5\n",
      "6               antic delighted with record breaking barca        6\n",
      "7        aussie qualifier stosur wastes four memphis match        7\n",
      "8             aust addresses un security council over iraq        8\n",
      "9               australia is locked into war timetable opp        9\n",
      "10       australia to contribute 10 million in aid to iraq       10\n",
      "11       barca take record as robson celebrates birthda...       11\n",
      "12                              bathhouse plans move ahead       12\n",
      "13           big hopes for launceston cycling championship       13\n",
      "14                  big plan to boost paroo water supplies       14\n",
      "15                  blizzard buries united states in bills       15\n",
      "16          brigadier dismisses reports troops harassed in       16\n",
      "17          british combat troops arriving daily in kuwait       17\n",
      "18              bryant leads lakers to double overtime win       18\n",
      "19                bushfire victims urged to see centrelink       19\n",
      "20         businesses should prepare for terrorist attacks       20\n",
      "21         calleri avenges final defeat to eliminate massu       21\n",
      "22                 call for ethanol blend fuel to go ahead       22\n",
      "23                  carews freak goal leaves roma in ruins       23\n",
      "24                            cemeteries miss out on funds       24\n",
      "25       code of conduct toughens organ donation regula...       25\n",
      "26            commonwealth bank cuts fixed home loan rates       26\n",
      "27                  community urged to help homeless youth       27\n",
      "28        council chief executive fails to secure position       28\n",
      "29         councillor to contest wollongong as independent       29\n",
      "...                                                    ...      ...\n",
      "1103633        nepal bans solo climbers from mount everest  1103633\n",
      "1103634     new years eve 2018 celebrated around australia  1103634\n",
      "1103635  new years eve australia prepares to bring in 2018  1103635\n",
      "1103636        new years eve celebrations around the world  1103636\n",
      "1103637  new years texting data load to surge as clock ...  1103637\n",
      "1103638     north korea leader kim jong un watches concert  1103638\n",
      "1103639   now its real tourists converge on sydney harbour  1103639\n",
      "1103640  nye guide for sydney best venues public transp...  1103640\n",
      "1103641    police confirm deaths of six people in seaplane  1103641\n",
      "1103642  police officer brett forte; killed in a shooti...  1103642\n",
      "1103643     p plate driver caught 100 kph over speed limit  1103643\n",
      "1103644         protesters throw rocks at police in tehran  1103644\n",
      "1103645          remembering australian lives lost in 2017  1103645\n",
      "1103646  remount horsemanship helping veterans through ...  1103646\n",
      "1103647  roger federer rivals battling injury ahead aus...  1103647\n",
      "1103648  russian tankers fuelled north korea via transf...  1103648\n",
      "1103649  sa transport department defends major intersec...  1103649\n",
      "1103650  sea plane has crashed into the hawkesbury rive...  1103650\n",
      "1103651  search for survivors in hawkesbury sea plane c...  1103651\n",
      "1103652  second sexual assault reported at falls festiv...  1103652\n",
      "1103653  severe storms forecast for nye in south east q...  1103653\n",
      "1103654  snake catcher pleads for people not to kill re...  1103654\n",
      "1103655  south australia prepares for party to welcome ...  1103655\n",
      "1103656  strikers cool off the heat with big win in ade...  1103656\n",
      "1103657    stunning images from the sydney to hobart yacht  1103657\n",
      "1103658  the ashes smiths warners near miss liven up bo...  1103658\n",
      "1103659            timelapse: brisbanes new year fireworks  1103659\n",
      "1103660           what 2017 meant to the kids of australia  1103660\n",
      "1103661   what the papodopoulos meeting may mean for ausus  1103661\n",
      "1103662  who is george papadopoulos the former trump ca...  1103662\n",
      "\n",
      "[1103663 rows x 2 columns]\n"
     ]
    }
   ],
   "source": [
    "print(data_text)"
   ]
  },
  {
   "cell_type": "code",
   "execution_count": 8,
   "metadata": {},
   "outputs": [],
   "source": [
    "documents = data_text"
   ]
  },
  {
   "cell_type": "code",
   "execution_count": 9,
   "metadata": {},
   "outputs": [
    {
     "name": "stdout",
     "output_type": "stream",
     "text": [
      "1103663\n"
     ]
    }
   ],
   "source": [
    "print(len(documents))"
   ]
  },
  {
   "cell_type": "code",
   "execution_count": 10,
   "metadata": {},
   "outputs": [
    {
     "name": "stdout",
     "output_type": "stream",
     "text": [
      "                                       headline_text  index\n",
      "0  aba decides against community broadcasting lic...      0\n",
      "1     act fire witnesses must be aware of defamation      1\n",
      "2     a g calls for infrastructure protection summit      2\n",
      "3           air nz staff in aust strike for pay rise      3\n",
      "4      air nz strike to affect australian travellers      4\n"
     ]
    }
   ],
   "source": [
    "print(documents[:5])"
   ]
  },
  {
   "cell_type": "code",
   "execution_count": 11,
   "metadata": {},
   "outputs": [
    {
     "name": "stderr",
     "output_type": "stream",
     "text": [
      "[nltk_data] Downloading package wordnet to\n",
      "[nltk_data]     /Users/alexanderbollbach/nltk_data...\n",
      "[nltk_data]   Package wordnet is already up-to-date!\n"
     ]
    },
    {
     "data": {
      "text/plain": [
       "True"
      ]
     },
     "execution_count": 11,
     "metadata": {},
     "output_type": "execute_result"
    }
   ],
   "source": [
    "import gensim\n",
    "from gensim.utils import simple_preprocess\n",
    "from gensim.parsing.preprocessing import STOPWORDS\n",
    "from nltk.stem import WordNetLemmatizer, SnowballStemmer\n",
    "from nltk.stem.porter import *\n",
    "import numpy as np\n",
    "np.random.seed(2018)\n",
    "import nltk\n",
    "nltk.download('wordnet')"
   ]
  },
  {
   "cell_type": "code",
   "execution_count": 12,
   "metadata": {},
   "outputs": [],
   "source": [
    "def lemmatize_stemming(text):\n",
    "    stemmer = PorterStemmer()\n",
    "    return stemmer.stem(WordNetLemmatizer().lemmatize(text, pos='v'))"
   ]
  },
  {
   "cell_type": "code",
   "execution_count": 13,
   "metadata": {},
   "outputs": [],
   "source": [
    "def preprocess(text):\n",
    "    result = []\n",
    "    for token in gensim.utils.simple_preprocess(text):\n",
    "        if token not in gensim.parsing.preprocessing.STOPWORDS and len(token) > 3:\n",
    "            result.append(lemmatize_stemming(token))\n",
    "    return result"
   ]
  },
  {
   "cell_type": "code",
   "execution_count": 14,
   "metadata": {},
   "outputs": [
    {
     "name": "stdout",
     "output_type": "stream",
     "text": [
      "original document: \n",
      "['rain', 'helps', 'dampen', 'bushfires']\n",
      "\n",
      "\n",
      " tokenized and lemmatized document: \n",
      "['rain', 'help', 'dampen', 'bushfir']\n"
     ]
    }
   ],
   "source": [
    "doc_sample = documents[documents['index'] == 4310].values[0][0]\n",
    "print('original document: ')\n",
    "words = []\n",
    "for word in doc_sample.split(' '):\n",
    "    words.append(word)\n",
    "print(words)\n",
    "print('\\n\\n tokenized and lemmatized document: ')\n",
    "print(preprocess(doc_sample))"
   ]
  },
  {
   "cell_type": "code",
   "execution_count": null,
   "metadata": {},
   "outputs": [],
   "source": [
    "print(3)"
   ]
  },
  {
   "cell_type": "code",
   "execution_count": 32,
   "metadata": {},
   "outputs": [
    {
     "name": "stdout",
     "output_type": "stream",
     "text": [
      "0 broadcast\n",
      "1 commun\n",
      "2 decid\n",
      "3 licenc\n",
      "4 awar\n",
      "5 defam\n",
      "6 wit\n",
      "7 call\n",
      "8 infrastructur\n",
      "9 protect\n",
      "10 summit\n",
      "Dictionary(62374 unique tokens: ['broadcast', 'commun', 'decid', 'licenc', 'awar']...)\n",
      "foo\n"
     ]
    }
   ],
   "source": [
    "processed_docs = documents['headline_text'].map(preprocess)\n",
    "\n",
    "\n",
    "dictionary = gensim.corpora.Dictionary(processed_docs)\n",
    "count = 0\n",
    "for k, v in dictionary.iteritems():\n",
    "    print(k, v)\n",
    "    count += 1\n",
    "    if count > 10:\n",
    "        break\n",
    "        \n",
    "print(dictionary)\n",
    "\n",
    "print(\"foo\")"
   ]
  },
  {
   "cell_type": "code",
   "execution_count": 33,
   "metadata": {},
   "outputs": [
    {
     "name": "stdout",
     "output_type": "stream",
     "text": [
      "Dictionary(62374 unique tokens: ['broadcast', 'commun', 'decid', 'licenc', 'awar']...)\n"
     ]
    }
   ],
   "source": [
    "print(dictionary)"
   ]
  },
  {
   "cell_type": "code",
   "execution_count": 35,
   "metadata": {},
   "outputs": [
    {
     "name": "stdout",
     "output_type": "stream",
     "text": [
      "62374\n",
      "14174\n"
     ]
    }
   ],
   "source": [
    "print(len(dictionary))\n",
    "dictionary.filter_extremes(no_below=15, no_above=0.5, keep_n=100000)\n",
    "print(len(dictionary))"
   ]
  },
  {
   "cell_type": "code",
   "execution_count": 36,
   "metadata": {},
   "outputs": [
    {
     "data": {
      "text/plain": [
       "[(76, 1), (112, 1), (483, 1), (4021, 1)]"
      ]
     },
     "execution_count": 36,
     "metadata": {},
     "output_type": "execute_result"
    }
   ],
   "source": [
    "bow_corpus = [dictionary.doc2bow(doc) for doc in processed_docs]\n",
    "bow_corpus[4310]"
   ]
  },
  {
   "cell_type": "code",
   "execution_count": 37,
   "metadata": {},
   "outputs": [
    {
     "name": "stdout",
     "output_type": "stream",
     "text": [
      "Word 76 (\"bushfir\") appears 1 time.\n",
      "Word 112 (\"help\") appears 1 time.\n",
      "Word 483 (\"rain\") appears 1 time.\n",
      "Word 4021 (\"dampen\") appears 1 time.\n"
     ]
    }
   ],
   "source": [
    "bow_doc_4310 = bow_corpus[4310]\n",
    "for i in range(len(bow_doc_4310)):\n",
    "    print(\"Word {} (\\\"{}\\\") appears {} time.\".format(bow_doc_4310[i][0], \n",
    "                                               dictionary[bow_doc_4310[i][0]], \n",
    "bow_doc_4310[i][1]))"
   ]
  },
  {
   "cell_type": "code",
   "execution_count": null,
   "metadata": {},
   "outputs": [],
   "source": []
  }
 ],
 "metadata": {
  "kernelspec": {
   "display_name": "Python 3",
   "language": "python",
   "name": "python3"
  },
  "language_info": {
   "codemirror_mode": {
    "name": "ipython",
    "version": 3
   },
   "file_extension": ".py",
   "mimetype": "text/x-python",
   "name": "python",
   "nbconvert_exporter": "python",
   "pygments_lexer": "ipython3",
   "version": "3.7.1"
  }
 },
 "nbformat": 4,
 "nbformat_minor": 2
}
