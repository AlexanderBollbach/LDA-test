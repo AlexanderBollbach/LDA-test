{
 "cells": [
  {
   "cell_type": "code",
   "execution_count": 61,
   "metadata": {},
   "outputs": [],
   "source": [
    "from spacy.lang.en import English\n",
    "import spacy\n",
    "\n",
    "text = open('./fake-corpus.txt').read().lower()\n",
    "nlp = spacy.load('en')\n",
    "doc = nlp(text)"
   ]
  },
  {
   "cell_type": "code",
   "execution_count": 62,
   "metadata": {},
   "outputs": [],
   "source": [
    "docs = []\n",
    "next_doc = []\n",
    "\n",
    "for w in doc:\n",
    "    if w.text != '\\n' and not w.is_stop and not w.is_punct and not w.like_num:\n",
    "        next_doc.append(w.lemma_)\n",
    "    if w.text == '\\n':\n",
    "        docs.append(next_doc)\n",
    "        next_doc = []"
   ]
  },
  {
   "cell_type": "code",
   "execution_count": 63,
   "metadata": {},
   "outputs": [
    {
     "name": "stderr",
     "output_type": "stream",
     "text": [
      "/Users/alexanderbollbach/anaconda3/lib/python3.7/site-packages/gensim/models/phrases.py:494: UserWarning: For a faster implementation, use the gensim.models.phrases.Phraser class\n",
      "  warnings.warn(\"For a faster implementation, use the gensim.models.phrases.Phraser class\")\n"
     ]
    }
   ],
   "source": [
    "from gensim import corpora\n",
    "from gensim.models.phrases import Phrases\n",
    "\n",
    "bigram_model = Phrases(docs)\n",
    "docs = [bigram_model[doc] for doc in docs]\n",
    "docs = [bigram_model[doc] for doc in docs]"
   ]
  },
  {
   "cell_type": "code",
   "execution_count": 64,
   "metadata": {},
   "outputs": [],
   "source": [
    "dictionary = corpora.Dictionary(docs)\n",
    "corpus = [dictionary.doc2bow(doc) for doc in docs]"
   ]
  },
  {
   "cell_type": "code",
   "execution_count": 67,
   "metadata": {},
   "outputs": [],
   "source": [
    "from gensim.models import LsiModel, LdaModel\n",
    "\n",
    "model = LdaModel(corpus=corpus, id2word=dictionary, num_topics=2)"
   ]
  },
  {
   "cell_type": "code",
   "execution_count": 68,
   "metadata": {},
   "outputs": [
    {
     "data": {
      "text/html": [
       "<div>\n",
       "<style scoped>\n",
       "    .dataframe tbody tr th:only-of-type {\n",
       "        vertical-align: middle;\n",
       "    }\n",
       "\n",
       "    .dataframe tbody tr th {\n",
       "        vertical-align: top;\n",
       "    }\n",
       "\n",
       "    .dataframe thead th {\n",
       "        text-align: right;\n",
       "    }\n",
       "</style>\n",
       "<table border=\"1\" class=\"dataframe\">\n",
       "  <thead>\n",
       "    <tr style=\"text-align: right;\">\n",
       "      <th></th>\n",
       "      <th>topic id</th>\n",
       "      <th>probability</th>\n",
       "      <th>topic terms</th>\n",
       "    </tr>\n",
       "  </thead>\n",
       "  <tbody>\n",
       "    <tr>\n",
       "      <th>0</th>\n",
       "      <td>0</td>\n",
       "      <td>0.919873</td>\n",
       "      <td>[like, icecream, vanilla, ice, cream]</td>\n",
       "    </tr>\n",
       "    <tr>\n",
       "      <th>1</th>\n",
       "      <td>1</td>\n",
       "      <td>0.080127</td>\n",
       "      <td>[dog, cat, clear, animal, like]</td>\n",
       "    </tr>\n",
       "  </tbody>\n",
       "</table>\n",
       "</div>"
      ],
      "text/plain": [
       "   topic id  probability                            topic terms\n",
       "0         0     0.919873  [like, icecream, vanilla, ice, cream]\n",
       "1         1     0.080127        [dog, cat, clear, animal, like]"
      ]
     },
     "metadata": {},
     "output_type": "display_data"
    }
   ],
   "source": [
    "import pandas as pd\n",
    "from IPython.display import display, HTML\n",
    "\n",
    "doc_sample = corpus[0]\n",
    "\n",
    "print(doc_sample)\n",
    "\n",
    "def get_top_terms(topic_id):\n",
    "    terms = model.get_topic_terms(topicid=topic_id, topn=5)\n",
    "    termids = map(lambda x: x[0], terms)\n",
    "    words = map(lambda x: dictionary[x], termids)\n",
    "    return list(words)\n",
    "\n",
    "tts = model.get_document_topics(bow=corpus[0])\n",
    "\n",
    "ls = list(map(list, list(zip(*tts))))\n",
    "\n",
    "t_ids = ls[0]\n",
    "t_probs = ls[1]\n",
    "t_wordlist = list(map(get_top_terms, t_ids))\n",
    "\n",
    "df = pd.DataFrame()\n",
    "\n",
    "df['topic id'] = pd.Series(t_ids)\n",
    "df['probability'] = pd.Series(t_probs)\n",
    "df['topic terms'] = pd.Series(t_wordlist)\n",
    "\n",
    "display(df)"
   ]
  },
  {
   "cell_type": "code",
   "execution_count": null,
   "metadata": {},
   "outputs": [],
   "source": []
  },
  {
   "cell_type": "code",
   "execution_count": null,
   "metadata": {},
   "outputs": [],
   "source": []
  }
 ],
 "metadata": {
  "kernelspec": {
   "display_name": "Python 3",
   "language": "python",
   "name": "python3"
  },
  "language_info": {
   "codemirror_mode": {
    "name": "ipython",
    "version": 3
   },
   "file_extension": ".py",
   "mimetype": "text/x-python",
   "name": "python",
   "nbconvert_exporter": "python",
   "pygments_lexer": "ipython3",
   "version": "3.7.1"
  }
 },
 "nbformat": 4,
 "nbformat_minor": 2
}
