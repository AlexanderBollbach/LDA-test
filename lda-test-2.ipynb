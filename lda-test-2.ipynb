{
 "cells": [
  {
   "cell_type": "code",
   "execution_count": 134,
   "metadata": {},
   "outputs": [],
   "source": [
    "import warnings\n",
    "warnings.filterwarnings('ignore')"
   ]
  },
  {
   "cell_type": "code",
   "execution_count": 2,
   "metadata": {},
   "outputs": [
    {
     "name": "stdout",
     "output_type": "stream",
     "text": [
      "<class 'spacy.lang.en.English'>\n",
      "<class 'spacy.tokens.doc.Doc'>\n"
     ]
    }
   ],
   "source": [
    "from spacy.lang.en import English\n",
    "import spacy\n",
    "\n",
    "text = open('./fake-corpus.txt').read().lower()\n",
    "nlp = spacy.load('en')\n",
    "\n",
    "print(type(nlp))\n",
    "\n",
    "doc = nlp(text)\n",
    "\n",
    "print(type(doc))\n",
    "\n",
    "original_doc_list = text.splitlines()"
   ]
  },
  {
   "cell_type": "code",
   "execution_count": 136,
   "metadata": {},
   "outputs": [
    {
     "name": "stdout",
     "output_type": "stream",
     "text": [
      "['like', 'animal', 'like', 'cat', 'dog']\n",
      "i like animals like cats and dogs\n"
     ]
    }
   ],
   "source": [
    "docs = []\n",
    "next_doc = []\n",
    "\n",
    "for w in doc:\n",
    "    if w.text != '\\n' and not w.is_stop and not w.is_punct and not w.like_num:\n",
    "        next_doc.append(w.lemma_)\n",
    "    if w.text == '\\n':\n",
    "        docs.append(next_doc)\n",
    "        next_doc = []\n",
    "        \n",
    "print(docs[3])\n",
    "print(original_doc_list[3])"
   ]
  },
  {
   "cell_type": "code",
   "execution_count": 137,
   "metadata": {},
   "outputs": [],
   "source": [
    "from gensim import corpora\n",
    "from gensim.models.phrases import Phrases, Phraser\n",
    "\n",
    "bigram_model = Phrases(docs)\n",
    "docs = [bigram_model[doc] for doc in docs]\n",
    "docs = [bigram_model[doc] for doc in docs]"
   ]
  },
  {
   "cell_type": "code",
   "execution_count": 138,
   "metadata": {},
   "outputs": [],
   "source": [
    "dictionary = corpora.Dictionary(docs)\n",
    "corpus = [dictionary.doc2bow(doc) for doc in docs]"
   ]
  },
  {
   "cell_type": "code",
   "execution_count": 139,
   "metadata": {},
   "outputs": [],
   "source": [
    "from gensim.models import TfidfModel\n",
    "\n",
    "tfidf = TfidfModel(corpus)\n",
    "\n",
    "# corpus = [tfidf[doc] for doc in corpus]"
   ]
  },
  {
   "cell_type": "code",
   "execution_count": 140,
   "metadata": {},
   "outputs": [],
   "source": [
    "from gensim.models import LsiModel, LdaModel\n",
    "\n",
    "model = LdaModel(corpus=corpus, id2word=dictionary, num_topics=2)"
   ]
  },
  {
   "cell_type": "code",
   "execution_count": 141,
   "metadata": {},
   "outputs": [
    {
     "name": "stdout",
     "output_type": "stream",
     "text": [
      "it is raining cats and dogs\n"
     ]
    },
    {
     "data": {
      "text/html": [
       "<div>\n",
       "<style scoped>\n",
       "    .dataframe tbody tr th:only-of-type {\n",
       "        vertical-align: middle;\n",
       "    }\n",
       "\n",
       "    .dataframe tbody tr th {\n",
       "        vertical-align: top;\n",
       "    }\n",
       "\n",
       "    .dataframe thead th {\n",
       "        text-align: right;\n",
       "    }\n",
       "</style>\n",
       "<table border=\"1\" class=\"dataframe\">\n",
       "  <thead>\n",
       "    <tr style=\"text-align: right;\">\n",
       "      <th></th>\n",
       "      <th>topic id</th>\n",
       "      <th>probability</th>\n",
       "      <th>topic terms</th>\n",
       "    </tr>\n",
       "  </thead>\n",
       "  <tbody>\n",
       "    <tr>\n",
       "      <th>0</th>\n",
       "      <td>0</td>\n",
       "      <td>0.143841</td>\n",
       "      <td>[dog, rain, cat, like, icecream]</td>\n",
       "    </tr>\n",
       "    <tr>\n",
       "      <th>1</th>\n",
       "      <td>1</td>\n",
       "      <td>0.856159</td>\n",
       "      <td>[cat, dog, rain, like, topic]</td>\n",
       "    </tr>\n",
       "  </tbody>\n",
       "</table>\n",
       "</div>"
      ],
      "text/plain": [
       "   topic id  probability                       topic terms\n",
       "0         0     0.143841  [dog, rain, cat, like, icecream]\n",
       "1         1     0.856159     [cat, dog, rain, like, topic]"
      ]
     },
     "metadata": {},
     "output_type": "display_data"
    }
   ],
   "source": [
    "import pandas as pd\n",
    "from IPython.display import display, HTML\n",
    "\n",
    "doc_id = 8\n",
    "\n",
    "doc_as_bow = corpus[doc_id]\n",
    "\n",
    "def get_top_terms(topic_id):\n",
    "    terms = model.get_topic_terms(topicid=topic_id, topn=5)\n",
    "    termids = map(lambda x: x[0], terms)\n",
    "    words = map(lambda x: dictionary[x], termids)\n",
    "    return list(words)\n",
    "\n",
    "tts = model.get_document_topics(bow=doc_as_bow)\n",
    "\n",
    "ls = list(map(list, list(zip(*tts))))\n",
    "t_ids = ls[0]\n",
    "t_probs = ls[1]\n",
    "t_wordlist = list(map(get_top_terms, t_ids))\n",
    "\n",
    "print(original_doc_list[doc_id])\n",
    "\n",
    "df = pd.DataFrame()\n",
    "df['topic id'] = pd.Series(t_ids)\n",
    "df['probability'] = pd.Series(t_probs)\n",
    "df['topic terms'] = pd.Series(t_wordlist)\n",
    "\n",
    "display(df)"
   ]
  },
  {
   "cell_type": "code",
   "execution_count": 142,
   "metadata": {
    "scrolled": false
   },
   "outputs": [
    {
     "data": {
      "text/html": [
       "\n",
       "<link rel=\"stylesheet\" type=\"text/css\" href=\"https://cdn.rawgit.com/bmabey/pyLDAvis/files/ldavis.v1.0.0.css\">\n",
       "\n",
       "\n",
       "<div id=\"ldavis_el273848737330085481886030\"></div>\n",
       "<script type=\"text/javascript\">\n",
       "\n",
       "var ldavis_el273848737330085481886030_data = {\"mdsDat\": {\"x\": [0.05341789871454238, -0.05341789871454238], \"y\": [0.0, 0.0], \"topics\": [1, 2], \"cluster\": [1, 1], \"Freq\": [67.38164520263672, 32.618350982666016]}, \"tinfo\": {\"Category\": [\"Default\", \"Default\", \"Default\", \"Default\", \"Default\", \"Default\", \"Default\", \"Default\", \"Default\", \"Default\", \"Default\", \"Default\", \"Default\", \"Default\", \"Default\", \"Default\", \"Default\", \"Default\", \"Default\", \"Default\", \"Default\", \"Default\", \"Default\", \"Default\", \"Default\", \"Default\", \"Default\", \"Default\", \"Topic1\", \"Topic1\", \"Topic1\", \"Topic1\", \"Topic1\", \"Topic1\", \"Topic1\", \"Topic1\", \"Topic1\", \"Topic1\", \"Topic1\", \"Topic1\", \"Topic1\", \"Topic1\", \"Topic1\", \"Topic1\", \"Topic1\", \"Topic1\", \"Topic1\", \"Topic1\", \"Topic1\", \"Topic1\", \"Topic1\", \"Topic1\", \"Topic1\", \"Topic1\", \"Topic1\", \"Topic1\", \"Topic2\", \"Topic2\", \"Topic2\", \"Topic2\", \"Topic2\", \"Topic2\", \"Topic2\", \"Topic2\", \"Topic2\", \"Topic2\", \"Topic2\", \"Topic2\", \"Topic2\", \"Topic2\", \"Topic2\", \"Topic2\", \"Topic2\", \"Topic2\", \"Topic2\", \"Topic2\", \"Topic2\", \"Topic2\", \"Topic2\", \"Topic2\", \"Topic2\", \"Topic2\", \"Topic2\", \"Topic2\"], \"Freq\": [3.0, 3.0, 6.0, 2.0, 1.0, 1.0, 1.0, 1.0, 1.0, 1.0, 1.0, 1.0, 1.0, 1.0, 2.0, 2.0, 2.0, 1.0, 1.0, 1.0, 3.0, 1.0, 28.0, 1.0, 2.0, 2.0, 26.0, 29.0, 24.39874839782715, 22.01091957092285, 23.252195358276367, 1.7633026838302612, 1.6544474363327026, 2.159449577331543, 1.0408141613006592, 1.4741606712341309, 0.9774274826049805, 1.4649444818496704, 1.4498082399368286, 0.955925464630127, 0.9459851980209351, 0.9402905106544495, 3.140214443206787, 0.8419418931007385, 0.7627372145652771, 0.7451529502868652, 0.7305188775062561, 0.7297765612602234, 0.9210867881774902, 1.1217209100723267, 1.118005633354187, 0.5387003421783447, 0.5032469630241394, 0.4723905026912689, 0.46991977095603943, 0.4457446038722992, 1.488224744796753, 1.4548559188842773, 1.451445460319519, 1.408854603767395, 1.3599185943603516, 2.663790702819824, 2.6586625576019287, 1.8838551044464111, 1.0961780548095703, 1.0951534509658813, 1.0749540328979492, 1.0506829023361206, 0.9413573741912842, 3.027778387069702, 0.8056075572967529, 0.7977472543716431, 0.7840269804000854, 1.1540659666061401, 1.1331737041473389, 0.7543479800224304, 1.1204527616500854, 0.6668558716773987, 1.2262959480285645, 0.8716045022010803, 0.721352756023407, 5.7678914070129395, 4.325988292694092, 4.185305595397949], \"Term\": [\"icecream\", \"vanilla\", \"like\", \"chocolate\", \"tooth\", \"not\", \"hurt\", \"possible\", \"superior\", \"pet\", \"people\", \"flavor\", \"have\", \"prefer\", \"clear\", \"ice\", \"cream\", \"discuss\", \"particular\", \"obvious\", \"topic\", \"would\", \"cat\", \"emphasis\", \"corpus\", \"animal\", \"rain\", \"dog\", \"cat\", \"rain\", \"dog\", \"animal\", \"corpus\", \"topic\", \"emphasis\", \"cream\", \"would\", \"ice\", \"clear\", \"obvious\", \"particular\", \"discuss\", \"like\", \"prefer\", \"have\", \"flavor\", \"people\", \"pet\", \"chocolate\", \"vanilla\", \"icecream\", \"superior\", \"possible\", \"hurt\", \"not\", \"tooth\", \"tooth\", \"not\", \"hurt\", \"possible\", \"superior\", \"icecream\", \"vanilla\", \"chocolate\", \"pet\", \"people\", \"flavor\", \"have\", \"prefer\", \"like\", \"discuss\", \"particular\", \"obvious\", \"clear\", \"ice\", \"would\", \"cream\", \"emphasis\", \"topic\", \"corpus\", \"animal\", \"dog\", \"rain\", \"cat\"], \"Total\": [3.0, 3.0, 6.0, 2.0, 1.0, 1.0, 1.0, 1.0, 1.0, 1.0, 1.0, 1.0, 1.0, 1.0, 2.0, 2.0, 2.0, 1.0, 1.0, 1.0, 3.0, 1.0, 28.0, 1.0, 2.0, 2.0, 26.0, 29.0, 28.58405303955078, 26.3369083404541, 29.02008628845215, 2.4846553802490234, 2.5260519981384277, 3.3857455253601074, 1.707669973373413, 2.594613552093506, 1.7317755222320557, 2.598118305206299, 2.6038742065429688, 1.7399524450302124, 1.7437324523925781, 1.7458980083465576, 6.16799259185791, 1.783299207687378, 1.813420057296753, 1.8201069831848145, 1.8256723880767822, 1.8259546756744385, 2.8049418926239014, 3.780383586883545, 3.781796455383301, 1.8986189365386963, 1.9121015071868896, 1.9238359928131104, 1.9247757196426392, 1.9339693784713745, 1.9339693784713745, 1.9247757196426392, 1.9238359928131104, 1.9121015071868896, 1.8986189365386963, 3.781796455383301, 3.780383586883545, 2.8049418926239014, 1.8259546756744385, 1.8256723880767822, 1.8201069831848145, 1.813420057296753, 1.783299207687378, 6.16799259185791, 1.7458980083465576, 1.7437324523925781, 1.7399524450302124, 2.6038742065429688, 2.598118305206299, 1.7317755222320557, 2.594613552093506, 1.707669973373413, 3.3857455253601074, 2.5260519981384277, 2.4846553802490234, 29.02008628845215, 26.3369083404541, 28.58405303955078], \"loglift\": [28.0, 27.0, 26.0, 25.0, 24.0, 23.0, 22.0, 21.0, 20.0, 19.0, 18.0, 17.0, 16.0, 15.0, 14.0, 13.0, 12.0, 11.0, 10.0, 9.0, 8.0, 7.0, 6.0, 5.0, 4.0, 3.0, 2.0, 1.0, 0.23649999499320984, 0.21539999544620514, 0.17319999635219574, 0.051899999380111694, -0.0284000001847744, -0.05490000173449516, -0.10029999911785126, -0.17059999704360962, -0.17720000445842743, -0.17820000648498535, -0.1907999962568283, -0.20409999787807465, -0.2168000042438507, -0.2240000069141388, -0.28029999136924744, -0.35569998621940613, -0.47130000591278076, -0.4982999861240387, -0.5212000012397766, -0.5223000049591064, -0.7188000082969666, -0.8202000260353088, -0.8238999843597412, -0.8648999929428101, -0.9401000142097473, -1.0095000267028809, -1.0152000188827515, -1.0728000402450562, 0.858299970626831, 0.840399980545044, 0.8385000228881836, 0.8148999810218811, 0.7865999937057495, 0.7698000073432922, 0.7682999968528748, 0.7221999764442444, 0.6100000143051147, 0.6092000007629395, 0.5936999917030334, 0.5745000243186951, 0.4814000129699707, 0.40880000591278076, 0.34689998626708984, 0.3382999897003174, 0.3231000006198883, 0.30660000443458557, 0.2904999852180481, 0.2892000079154968, 0.28060001134872437, 0.18000000715255737, 0.1046999990940094, 0.05620000138878822, -0.11649999767541885, -0.49540001153945923, -0.6859999895095825, -0.8009999990463257], \"logprob\": [28.0, 27.0, 26.0, 25.0, 24.0, 23.0, 22.0, 21.0, 20.0, 19.0, 18.0, 17.0, 16.0, 15.0, 14.0, 13.0, 12.0, 11.0, 10.0, 9.0, 8.0, 7.0, 6.0, 5.0, 4.0, 3.0, 2.0, 1.0, -1.3804999589920044, -1.4835000038146973, -1.4285999536514282, -4.007800102233887, -4.071499824523926, -3.8052000999450684, -4.534999847412109, -4.1869001388549805, -4.597799777984619, -4.19320011138916, -4.20359992980957, -4.620100021362305, -4.630499839782715, -4.636600017547607, -3.4307000637054443, -4.747099876403809, -4.845900058746338, -4.869200229644775, -4.888999938964844, -4.889999866485596, -4.657199859619141, -4.46019983291626, -4.463500022888184, -5.193600177764893, -5.26170015335083, -5.324999809265137, -5.3302001953125, -5.382999897003174, -3.451900005340576, -3.474600076675415, -3.4769999980926514, -3.506700038909912, -3.542099952697754, -2.869800090789795, -2.8717000484466553, -3.216200113296509, -3.757699966430664, -3.7585999965667725, -3.7771999835968018, -3.800100088119507, -3.9100000858306885, -2.7416999340057373, -4.065700054168701, -4.075500011444092, -4.092800140380859, -3.706199884414673, -3.7244999408721924, -4.131400108337402, -3.73580002784729, -4.254700183868408, -3.6454999446868896, -3.9869000911712646, -4.17609977722168, -2.0971999168395996, -2.3849000930786133, -2.4179000854492188]}, \"token.table\": {\"Topic\": [1, 2, 1, 2, 1, 2, 1, 2, 1, 2, 1, 2, 1, 2, 1, 2, 1, 2, 1, 2, 1, 2, 2, 1, 2, 1, 2, 1, 2, 2, 1, 2, 1, 2, 1, 2, 1, 2, 1, 2, 1, 2, 1, 2, 1, 2, 2, 1, 2, 1, 2, 1, 2], \"Freq\": [0.8049405813217163, 0.40247029066085815, 0.8396289944648743, 0.13993816077709198, 0.3565136194229126, 0.7130272388458252, 0.3840431272983551, 0.3840431272983551, 0.7917493581771851, 0.39587467908859253, 0.38541385531425476, 0.38541385531425476, 0.5727711319923401, 0.5727711319923401, 0.792554497718811, 0.20675334334373474, 0.5855932235717773, 0.5855932235717773, 0.5494182705879211, 0.5494182705879211, 0.5514442324638367, 0.5514442324638367, 0.5197948217391968, 0.3848939538002014, 0.3848939538002014, 0.264424592256546, 0.7932738065719604, 0.4863819181919098, 0.4863819181919098, 0.5195410251617432, 0.5747283697128296, 0.5747283697128296, 0.5734824538230896, 0.5734824538230896, 0.5477433800697327, 0.5477433800697327, 0.5476587414741516, 0.5476587414741516, 0.5229848027229309, 0.5229848027229309, 0.5607584118843079, 0.5607584118843079, 0.8353296518325806, 0.15187811851501465, 0.526698648929596, 0.526698648929596, 0.5170712471008301, 0.5907118320465088, 0.2953559160232544, 0.2645234167575836, 0.7935702800750732, 0.5774420499801636, 0.5774420499801636], \"Term\": [\"animal\", \"animal\", \"cat\", \"cat\", \"chocolate\", \"chocolate\", \"clear\", \"clear\", \"corpus\", \"corpus\", \"cream\", \"cream\", \"discuss\", \"discuss\", \"dog\", \"dog\", \"emphasis\", \"emphasis\", \"flavor\", \"flavor\", \"have\", \"have\", \"hurt\", \"ice\", \"ice\", \"icecream\", \"icecream\", \"like\", \"like\", \"not\", \"obvious\", \"obvious\", \"particular\", \"particular\", \"people\", \"people\", \"pet\", \"pet\", \"possible\", \"possible\", \"prefer\", \"prefer\", \"rain\", \"rain\", \"superior\", \"superior\", \"tooth\", \"topic\", \"topic\", \"vanilla\", \"vanilla\", \"would\", \"would\"]}, \"R\": 28, \"lambda.step\": 0.01, \"plot.opts\": {\"xlab\": \"PC1\", \"ylab\": \"PC2\"}, \"topic.order\": [2, 1]};\n",
       "\n",
       "function LDAvis_load_lib(url, callback){\n",
       "  var s = document.createElement('script');\n",
       "  s.src = url;\n",
       "  s.async = true;\n",
       "  s.onreadystatechange = s.onload = callback;\n",
       "  s.onerror = function(){console.warn(\"failed to load library \" + url);};\n",
       "  document.getElementsByTagName(\"head\")[0].appendChild(s);\n",
       "}\n",
       "\n",
       "if(typeof(LDAvis) !== \"undefined\"){\n",
       "   // already loaded: just create the visualization\n",
       "   !function(LDAvis){\n",
       "       new LDAvis(\"#\" + \"ldavis_el273848737330085481886030\", ldavis_el273848737330085481886030_data);\n",
       "   }(LDAvis);\n",
       "}else if(typeof define === \"function\" && define.amd){\n",
       "   // require.js is available: use it to load d3/LDAvis\n",
       "   require.config({paths: {d3: \"https://cdnjs.cloudflare.com/ajax/libs/d3/3.5.5/d3.min\"}});\n",
       "   require([\"d3\"], function(d3){\n",
       "      window.d3 = d3;\n",
       "      LDAvis_load_lib(\"https://cdn.rawgit.com/bmabey/pyLDAvis/files/ldavis.v1.0.0.js\", function(){\n",
       "        new LDAvis(\"#\" + \"ldavis_el273848737330085481886030\", ldavis_el273848737330085481886030_data);\n",
       "      });\n",
       "    });\n",
       "}else{\n",
       "    // require.js not available: dynamically load d3 & LDAvis\n",
       "    LDAvis_load_lib(\"https://cdnjs.cloudflare.com/ajax/libs/d3/3.5.5/d3.min.js\", function(){\n",
       "         LDAvis_load_lib(\"https://cdn.rawgit.com/bmabey/pyLDAvis/files/ldavis.v1.0.0.js\", function(){\n",
       "                 new LDAvis(\"#\" + \"ldavis_el273848737330085481886030\", ldavis_el273848737330085481886030_data);\n",
       "            })\n",
       "         });\n",
       "}\n",
       "</script>"
      ],
      "text/plain": [
       "PreparedData(topic_coordinates=              x    y  topics  cluster       Freq\n",
       "topic                                           \n",
       "1      0.053418  0.0       1        1  67.381645\n",
       "0     -0.053418  0.0       2        1  32.618351, topic_info=     Category       Freq        Term      Total  loglift  logprob\n",
       "term                                                             \n",
       "10    Default   3.000000    icecream   3.000000  28.0000  28.0000\n",
       "8     Default   3.000000     vanilla   3.000000  27.0000  27.0000\n",
       "3     Default   6.000000        like   6.000000  26.0000  26.0000\n",
       "6     Default   2.000000   chocolate   2.000000  25.0000  25.0000\n",
       "22    Default   1.000000       tooth   1.000000  24.0000  24.0000\n",
       "21    Default   1.000000         not   1.000000  23.0000  23.0000\n",
       "20    Default   1.000000        hurt   1.000000  22.0000  22.0000\n",
       "18    Default   1.000000    possible   1.000000  21.0000  21.0000\n",
       "19    Default   1.000000    superior   1.000000  20.0000  20.0000\n",
       "26    Default   1.000000         pet   1.000000  19.0000  19.0000\n",
       "25    Default   1.000000      people   1.000000  18.0000  18.0000\n",
       "7     Default   1.000000      flavor   1.000000  17.0000  17.0000\n",
       "24    Default   1.000000        have   1.000000  16.0000  16.0000\n",
       "27    Default   1.000000      prefer   1.000000  15.0000  15.0000\n",
       "16    Default   2.000000       clear   2.000000  14.0000  14.0000\n",
       "2     Default   2.000000         ice   2.000000  13.0000  13.0000\n",
       "0     Default   2.000000       cream   2.000000  12.0000  12.0000\n",
       "1     Default   1.000000     discuss   1.000000  11.0000  11.0000\n",
       "12    Default   1.000000  particular   1.000000  10.0000  10.0000\n",
       "11    Default   1.000000     obvious   1.000000   9.0000   9.0000\n",
       "4     Default   3.000000       topic   3.000000   8.0000   8.0000\n",
       "5     Default   1.000000       would   1.000000   7.0000   7.0000\n",
       "14    Default  28.000000         cat  28.000000   6.0000   6.0000\n",
       "17    Default   1.000000    emphasis   1.000000   5.0000   5.0000\n",
       "9     Default   2.000000      corpus   2.000000   4.0000   4.0000\n",
       "13    Default   2.000000      animal   2.000000   3.0000   3.0000\n",
       "23    Default  26.000000        rain  26.000000   2.0000   2.0000\n",
       "15    Default  29.000000         dog  29.000000   1.0000   1.0000\n",
       "14     Topic1  24.398748         cat  28.584053   0.2365  -1.3805\n",
       "23     Topic1  22.010920        rain  26.336908   0.2154  -1.4835\n",
       "...       ...        ...         ...        ...      ...      ...\n",
       "21     Topic1   0.469920         not   1.924776  -1.0152  -5.3302\n",
       "22     Topic1   0.445745       tooth   1.933969  -1.0728  -5.3830\n",
       "22     Topic2   1.488225       tooth   1.933969   0.8583  -3.4519\n",
       "21     Topic2   1.454856         not   1.924776   0.8404  -3.4746\n",
       "20     Topic2   1.451445        hurt   1.923836   0.8385  -3.4770\n",
       "18     Topic2   1.408855    possible   1.912102   0.8149  -3.5067\n",
       "19     Topic2   1.359919    superior   1.898619   0.7866  -3.5421\n",
       "10     Topic2   2.663791    icecream   3.781796   0.7698  -2.8698\n",
       "8      Topic2   2.658663     vanilla   3.780384   0.7683  -2.8717\n",
       "6      Topic2   1.883855   chocolate   2.804942   0.7222  -3.2162\n",
       "26     Topic2   1.096178         pet   1.825955   0.6100  -3.7577\n",
       "25     Topic2   1.095153      people   1.825672   0.6092  -3.7586\n",
       "7      Topic2   1.074954      flavor   1.820107   0.5937  -3.7772\n",
       "24     Topic2   1.050683        have   1.813420   0.5745  -3.8001\n",
       "27     Topic2   0.941357      prefer   1.783299   0.4814  -3.9100\n",
       "3      Topic2   3.027778        like   6.167993   0.4088  -2.7417\n",
       "1      Topic2   0.805608     discuss   1.745898   0.3469  -4.0657\n",
       "12     Topic2   0.797747  particular   1.743732   0.3383  -4.0755\n",
       "11     Topic2   0.784027     obvious   1.739952   0.3231  -4.0928\n",
       "16     Topic2   1.154066       clear   2.603874   0.3066  -3.7062\n",
       "2      Topic2   1.133174         ice   2.598118   0.2905  -3.7245\n",
       "5      Topic2   0.754348       would   1.731776   0.2892  -4.1314\n",
       "0      Topic2   1.120453       cream   2.594614   0.2806  -3.7358\n",
       "17     Topic2   0.666856    emphasis   1.707670   0.1800  -4.2547\n",
       "4      Topic2   1.226296       topic   3.385746   0.1047  -3.6455\n",
       "9      Topic2   0.871605      corpus   2.526052   0.0562  -3.9869\n",
       "13     Topic2   0.721353      animal   2.484655  -0.1165  -4.1761\n",
       "15     Topic2   5.767891         dog  29.020086  -0.4954  -2.0972\n",
       "23     Topic2   4.325988        rain  26.336908  -0.6860  -2.3849\n",
       "14     Topic2   4.185306         cat  28.584053  -0.8010  -2.4179\n",
       "\n",
       "[84 rows x 6 columns], token_table=      Topic      Freq        Term\n",
       "term                             \n",
       "13        1  0.804941      animal\n",
       "13        2  0.402470      animal\n",
       "14        1  0.839629         cat\n",
       "14        2  0.139938         cat\n",
       "6         1  0.356514   chocolate\n",
       "6         2  0.713027   chocolate\n",
       "16        1  0.384043       clear\n",
       "16        2  0.384043       clear\n",
       "9         1  0.791749      corpus\n",
       "9         2  0.395875      corpus\n",
       "0         1  0.385414       cream\n",
       "0         2  0.385414       cream\n",
       "1         1  0.572771     discuss\n",
       "1         2  0.572771     discuss\n",
       "15        1  0.792554         dog\n",
       "15        2  0.206753         dog\n",
       "17        1  0.585593    emphasis\n",
       "17        2  0.585593    emphasis\n",
       "7         1  0.549418      flavor\n",
       "7         2  0.549418      flavor\n",
       "24        1  0.551444        have\n",
       "24        2  0.551444        have\n",
       "20        2  0.519795        hurt\n",
       "2         1  0.384894         ice\n",
       "2         2  0.384894         ice\n",
       "10        1  0.264425    icecream\n",
       "10        2  0.793274    icecream\n",
       "3         1  0.486382        like\n",
       "3         2  0.486382        like\n",
       "21        2  0.519541         not\n",
       "11        1  0.574728     obvious\n",
       "11        2  0.574728     obvious\n",
       "12        1  0.573482  particular\n",
       "12        2  0.573482  particular\n",
       "25        1  0.547743      people\n",
       "25        2  0.547743      people\n",
       "26        1  0.547659         pet\n",
       "26        2  0.547659         pet\n",
       "18        1  0.522985    possible\n",
       "18        2  0.522985    possible\n",
       "27        1  0.560758      prefer\n",
       "27        2  0.560758      prefer\n",
       "23        1  0.835330        rain\n",
       "23        2  0.151878        rain\n",
       "19        1  0.526699    superior\n",
       "19        2  0.526699    superior\n",
       "22        2  0.517071       tooth\n",
       "4         1  0.590712       topic\n",
       "4         2  0.295356       topic\n",
       "8         1  0.264523     vanilla\n",
       "8         2  0.793570     vanilla\n",
       "5         1  0.577442       would\n",
       "5         2  0.577442       would, R=28, lambda_step=0.01, plot_opts={'xlab': 'PC1', 'ylab': 'PC2'}, topic_order=[2, 1])"
      ]
     },
     "execution_count": 142,
     "metadata": {},
     "output_type": "execute_result"
    }
   ],
   "source": [
    "import pyLDAvis.gensim\n",
    "pyLDAvis.enable_notebook()\n",
    "pyLDAvis.gensim.prepare(model, corpus, dictionary)"
   ]
  }
 ],
 "metadata": {
  "kernelspec": {
   "display_name": "Python 3",
   "language": "python",
   "name": "python3"
  },
  "language_info": {
   "codemirror_mode": {
    "name": "ipython",
    "version": 3
   },
   "file_extension": ".py",
   "mimetype": "text/x-python",
   "name": "python",
   "nbconvert_exporter": "python",
   "pygments_lexer": "ipython3",
   "version": "3.7.1"
  }
 },
 "nbformat": 4,
 "nbformat_minor": 2
}
