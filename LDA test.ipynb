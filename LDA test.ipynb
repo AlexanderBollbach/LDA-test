{
 "cells": [
  {
   "cell_type": "markdown",
   "metadata": {},
   "source": [
    "# this is a _test_"
   ]
  },
  {
   "cell_type": "code",
   "execution_count": 1,
   "metadata": {},
   "outputs": [],
   "source": [
    "import pandas as pd"
   ]
  },
  {
   "cell_type": "code",
   "execution_count": 17,
   "metadata": {},
   "outputs": [
    {
     "name": "stdout",
     "output_type": "stream",
     "text": [
      "3\n"
     ]
    }
   ],
   "source": [
    "print(3)"
   ]
  },
  {
   "cell_type": "code",
   "execution_count": null,
   "metadata": {},
   "outputs": [],
   "source": [
    "print(pd)"
   ]
  },
  {
   "cell_type": "code",
   "execution_count": null,
   "metadata": {},
   "outputs": [],
   "source": [
    "data = pd.read_csv('abcnews-date-text.csv', error_bad_lines=False);"
   ]
  },
  {
   "cell_type": "code",
   "execution_count": null,
   "metadata": {},
   "outputs": [],
   "source": [
    "print(data)"
   ]
  },
  {
   "cell_type": "code",
   "execution_count": null,
   "metadata": {},
   "outputs": [],
   "source": [
    "data_text = data[['headline_text']]\n",
    "print(data_text)"
   ]
  },
  {
   "cell_type": "code",
   "execution_count": 6,
   "metadata": {},
   "outputs": [],
   "source": [
    "data_text['index'] = data_text.index\n"
   ]
  },
  {
   "cell_type": "code",
   "execution_count": 7,
   "metadata": {},
   "outputs": [
    {
     "name": "stdout",
     "output_type": "stream",
     "text": [
      "                                             headline_text    index\n",
      "0        aba decides against community broadcasting lic...        0\n",
      "1           act fire witnesses must be aware of defamation        1\n",
      "2           a g calls for infrastructure protection summit        2\n",
      "3                 air nz staff in aust strike for pay rise        3\n",
      "4            air nz strike to affect australian travellers        4\n",
      "5                        ambitious olsson wins triple jump        5\n",
      "6               antic delighted with record breaking barca        6\n",
      "7        aussie qualifier stosur wastes four memphis match        7\n",
      "8             aust addresses un security council over iraq        8\n",
      "9               australia is locked into war timetable opp        9\n",
      "10       australia to contribute 10 million in aid to iraq       10\n",
      "11       barca take record as robson celebrates birthda...       11\n",
      "12                              bathhouse plans move ahead       12\n",
      "13           big hopes for launceston cycling championship       13\n",
      "14                  big plan to boost paroo water supplies       14\n",
      "15                  blizzard buries united states in bills       15\n",
      "16          brigadier dismisses reports troops harassed in       16\n",
      "17          british combat troops arriving daily in kuwait       17\n",
      "18              bryant leads lakers to double overtime win       18\n",
      "19                bushfire victims urged to see centrelink       19\n",
      "20         businesses should prepare for terrorist attacks       20\n",
      "21         calleri avenges final defeat to eliminate massu       21\n",
      "22                 call for ethanol blend fuel to go ahead       22\n",
      "23                  carews freak goal leaves roma in ruins       23\n",
      "24                            cemeteries miss out on funds       24\n",
      "25       code of conduct toughens organ donation regula...       25\n",
      "26            commonwealth bank cuts fixed home loan rates       26\n",
      "27                  community urged to help homeless youth       27\n",
      "28        council chief executive fails to secure position       28\n",
      "29         councillor to contest wollongong as independent       29\n",
      "...                                                    ...      ...\n",
      "1103633        nepal bans solo climbers from mount everest  1103633\n",
      "1103634     new years eve 2018 celebrated around australia  1103634\n",
      "1103635  new years eve australia prepares to bring in 2018  1103635\n",
      "1103636        new years eve celebrations around the world  1103636\n",
      "1103637  new years texting data load to surge as clock ...  1103637\n",
      "1103638     north korea leader kim jong un watches concert  1103638\n",
      "1103639   now its real tourists converge on sydney harbour  1103639\n",
      "1103640  nye guide for sydney best venues public transp...  1103640\n",
      "1103641    police confirm deaths of six people in seaplane  1103641\n",
      "1103642  police officer brett forte; killed in a shooti...  1103642\n",
      "1103643     p plate driver caught 100 kph over speed limit  1103643\n",
      "1103644         protesters throw rocks at police in tehran  1103644\n",
      "1103645          remembering australian lives lost in 2017  1103645\n",
      "1103646  remount horsemanship helping veterans through ...  1103646\n",
      "1103647  roger federer rivals battling injury ahead aus...  1103647\n",
      "1103648  russian tankers fuelled north korea via transf...  1103648\n",
      "1103649  sa transport department defends major intersec...  1103649\n",
      "1103650  sea plane has crashed into the hawkesbury rive...  1103650\n",
      "1103651  search for survivors in hawkesbury sea plane c...  1103651\n",
      "1103652  second sexual assault reported at falls festiv...  1103652\n",
      "1103653  severe storms forecast for nye in south east q...  1103653\n",
      "1103654  snake catcher pleads for people not to kill re...  1103654\n",
      "1103655  south australia prepares for party to welcome ...  1103655\n",
      "1103656  strikers cool off the heat with big win in ade...  1103656\n",
      "1103657    stunning images from the sydney to hobart yacht  1103657\n",
      "1103658  the ashes smiths warners near miss liven up bo...  1103658\n",
      "1103659            timelapse: brisbanes new year fireworks  1103659\n",
      "1103660           what 2017 meant to the kids of australia  1103660\n",
      "1103661   what the papodopoulos meeting may mean for ausus  1103661\n",
      "1103662  who is george papadopoulos the former trump ca...  1103662\n",
      "\n",
      "[1103663 rows x 2 columns]\n"
     ]
    }
   ],
   "source": [
    "print(data_text)"
   ]
  },
  {
   "cell_type": "code",
   "execution_count": 8,
   "metadata": {},
   "outputs": [],
   "source": [
    "documents = data_text"
   ]
  },
  {
   "cell_type": "code",
   "execution_count": 9,
   "metadata": {},
   "outputs": [
    {
     "name": "stdout",
     "output_type": "stream",
     "text": [
      "1103663\n"
     ]
    }
   ],
   "source": [
    "print(len(documents))"
   ]
  },
  {
   "cell_type": "code",
   "execution_count": 10,
   "metadata": {},
   "outputs": [
    {
     "name": "stdout",
     "output_type": "stream",
     "text": [
      "                                       headline_text  index\n",
      "0  aba decides against community broadcasting lic...      0\n",
      "1     act fire witnesses must be aware of defamation      1\n",
      "2     a g calls for infrastructure protection summit      2\n",
      "3           air nz staff in aust strike for pay rise      3\n",
      "4      air nz strike to affect australian travellers      4\n"
     ]
    }
   ],
   "source": [
    "print(documents[:5])"
   ]
  },
  {
   "cell_type": "code",
   "execution_count": 11,
   "metadata": {},
   "outputs": [
    {
     "name": "stderr",
     "output_type": "stream",
     "text": [
      "[nltk_data] Downloading package wordnet to\n",
      "[nltk_data]     /Users/alexanderbollbach/nltk_data...\n",
      "[nltk_data]   Package wordnet is already up-to-date!\n"
     ]
    },
    {
     "data": {
      "text/plain": [
       "True"
      ]
     },
     "execution_count": 11,
     "metadata": {},
     "output_type": "execute_result"
    }
   ],
   "source": [
    "import gensim\n",
    "from gensim.utils import simple_preprocess\n",
    "from gensim.parsing.preprocessing import STOPWORDS\n",
    "from nltk.stem import WordNetLemmatizer, SnowballStemmer\n",
    "from nltk.stem.porter import *\n",
    "import numpy as np\n",
    "np.random.seed(2018)\n",
    "import nltk\n",
    "nltk.download('wordnet')"
   ]
  },
  {
   "cell_type": "code",
   "execution_count": 12,
   "metadata": {},
   "outputs": [],
   "source": [
    "def lemmatize_stemming(text):\n",
    "    stemmer = PorterStemmer()\n",
    "    return stemmer.stem(WordNetLemmatizer().lemmatize(text, pos='v'))"
   ]
  },
  {
   "cell_type": "code",
   "execution_count": 13,
   "metadata": {},
   "outputs": [],
   "source": [
    "def preprocess(text):\n",
    "    result = []\n",
    "    for token in gensim.utils.simple_preprocess(text):\n",
    "        if token not in gensim.parsing.preprocessing.STOPWORDS and len(token) > 3:\n",
    "            result.append(lemmatize_stemming(token))\n",
    "    return result"
   ]
  },
  {
   "cell_type": "code",
   "execution_count": 14,
   "metadata": {},
   "outputs": [
    {
     "name": "stdout",
     "output_type": "stream",
     "text": [
      "original document: \n",
      "['rain', 'helps', 'dampen', 'bushfires']\n",
      "\n",
      "\n",
      " tokenized and lemmatized document: \n",
      "['rain', 'help', 'dampen', 'bushfir']\n"
     ]
    }
   ],
   "source": [
    "doc_sample = documents[documents['index'] == 4310].values[0][0]\n",
    "print('original document: ')\n",
    "words = []\n",
    "for word in doc_sample.split(' '):\n",
    "    words.append(word)\n",
    "print(words)\n",
    "print('\\n\\n tokenized and lemmatized document: ')\n",
    "print(preprocess(doc_sample))"
   ]
  },
  {
   "cell_type": "code",
   "execution_count": null,
   "metadata": {},
   "outputs": [],
   "source": [
    "print(3)"
   ]
  },
  {
   "cell_type": "code",
   "execution_count": 32,
   "metadata": {},
   "outputs": [
    {
     "name": "stdout",
     "output_type": "stream",
     "text": [
      "0 broadcast\n",
      "1 commun\n",
      "2 decid\n",
      "3 licenc\n",
      "4 awar\n",
      "5 defam\n",
      "6 wit\n",
      "7 call\n",
      "8 infrastructur\n",
      "9 protect\n",
      "10 summit\n",
      "Dictionary(62374 unique tokens: ['broadcast', 'commun', 'decid', 'licenc', 'awar']...)\n",
      "foo\n"
     ]
    }
   ],
   "source": [
    "processed_docs = documents['headline_text'].map(preprocess)\n",
    "\n",
    "\n",
    "dictionary = gensim.corpora.Dictionary(processed_docs)\n",
    "count = 0\n",
    "for k, v in dictionary.iteritems():\n",
    "    print(k, v)\n",
    "    count += 1\n",
    "    if count > 10:\n",
    "        break\n",
    "        \n",
    "print(dictionary)\n",
    "\n",
    "print(\"foo\")"
   ]
  },
  {
   "cell_type": "code",
   "execution_count": 33,
   "metadata": {},
   "outputs": [
    {
     "name": "stdout",
     "output_type": "stream",
     "text": [
      "Dictionary(62374 unique tokens: ['broadcast', 'commun', 'decid', 'licenc', 'awar']...)\n"
     ]
    }
   ],
   "source": [
    "print(dictionary)"
   ]
  },
  {
   "cell_type": "code",
   "execution_count": 35,
   "metadata": {},
   "outputs": [
    {
     "name": "stdout",
     "output_type": "stream",
     "text": [
      "62374\n",
      "14174\n"
     ]
    }
   ],
   "source": [
    "print(len(dictionary))\n",
    "dictionary.filter_extremes(no_below=15, no_above=0.5, keep_n=100000)\n",
    "print(len(dictionary))"
   ]
  },
  {
   "cell_type": "code",
   "execution_count": 36,
   "metadata": {},
   "outputs": [
    {
     "data": {
      "text/plain": [
       "[(76, 1), (112, 1), (483, 1), (4021, 1)]"
      ]
     },
     "execution_count": 36,
     "metadata": {},
     "output_type": "execute_result"
    }
   ],
   "source": [
    "bow_corpus = [dictionary.doc2bow(doc) for doc in processed_docs]\n",
    "bow_corpus[4310]"
   ]
  },
  {
   "cell_type": "code",
   "execution_count": 37,
   "metadata": {},
   "outputs": [
    {
     "name": "stdout",
     "output_type": "stream",
     "text": [
      "Word 76 (\"bushfir\") appears 1 time.\n",
      "Word 112 (\"help\") appears 1 time.\n",
      "Word 483 (\"rain\") appears 1 time.\n",
      "Word 4021 (\"dampen\") appears 1 time.\n"
     ]
    }
   ],
   "source": [
    "bow_doc_4310 = bow_corpus[4310]\n",
    "for i in range(len(bow_doc_4310)):\n",
    "    print(\"Word {} (\\\"{}\\\") appears {} time.\".format(bow_doc_4310[i][0], \n",
    "                                               dictionary[bow_doc_4310[i][0]], \n",
    "bow_doc_4310[i][1]))"
   ]
  },
  {
   "cell_type": "code",
   "execution_count": 38,
   "metadata": {},
   "outputs": [
    {
     "name": "stdout",
     "output_type": "stream",
     "text": [
      "[(76, 1), (112, 1), (483, 1), (4021, 1)]\n"
     ]
    }
   ],
   "source": [
    "print(bow_doc_4310)"
   ]
  },
  {
   "cell_type": "code",
   "execution_count": 41,
   "metadata": {},
   "outputs": [
    {
     "name": "stdout",
     "output_type": "stream",
     "text": [
      "[(0, 0.5903603121911333),\n",
      " (1, 0.3852450692300274),\n",
      " (2, 0.4974556050119205),\n",
      " (3, 0.505567858418396)]\n"
     ]
    }
   ],
   "source": [
    "from gensim import corpora, models\n",
    "tfidf = models.TfidfModel(bow_corpus)\n",
    "\n",
    "corpus_tfidf = tfidf[bow_corpus]\n",
    "from pprint import pprint\n",
    "for doc in corpus_tfidf:\n",
    "    pprint(doc)\n",
    "    break"
   ]
  },
  {
   "cell_type": "code",
   "execution_count": 42,
   "metadata": {},
   "outputs": [
    {
     "name": "stdout",
     "output_type": "stream",
     "text": [
      "LdaModel(num_terms=14174, num_topics=10, decay=0.5, chunksize=2000)\n"
     ]
    }
   ],
   "source": [
    "lda_model = gensim.models.LdaMulticore(bow_corpus, num_topics=10, id2word=dictionary, passes=2, workers=2)\n",
    "\n",
    "print(lda_model)"
   ]
  },
  {
   "cell_type": "code",
   "execution_count": 43,
   "metadata": {},
   "outputs": [
    {
     "name": "stdout",
     "output_type": "stream",
     "text": [
      "Topic: 0 \n",
      "Words: 0.032*\"queensland\" + 0.020*\"countri\" + 0.018*\"hospit\" + 0.017*\"tasmanian\" + 0.017*\"hour\" + 0.015*\"work\" + 0.014*\"children\" + 0.013*\"student\" + 0.013*\"citi\" + 0.011*\"prison\"\n",
      "Topic: 1 \n",
      "Words: 0.030*\"australia\" + 0.023*\"world\" + 0.017*\"market\" + 0.014*\"sydney\" + 0.012*\"record\" + 0.012*\"share\" + 0.011*\"victoria\" + 0.010*\"australian\" + 0.009*\"port\" + 0.008*\"year\"\n",
      "Topic: 2 \n",
      "Words: 0.035*\"trump\" + 0.022*\"kill\" + 0.021*\"north\" + 0.020*\"coast\" + 0.016*\"china\" + 0.014*\"adelaid\" + 0.014*\"west\" + 0.014*\"attack\" + 0.013*\"price\" + 0.013*\"gold\"\n",
      "Topic: 3 \n",
      "Words: 0.027*\"govern\" + 0.017*\"plan\" + 0.014*\"council\" + 0.013*\"rural\" + 0.013*\"say\" + 0.012*\"indigen\" + 0.012*\"turnbul\" + 0.011*\"water\" + 0.011*\"chang\" + 0.011*\"commun\"\n",
      "Topic: 4 \n",
      "Words: 0.017*\"tasmania\" + 0.015*\"time\" + 0.015*\"fight\" + 0.014*\"leagu\" + 0.014*\"lose\" + 0.011*\"john\" + 0.010*\"life\" + 0.010*\"make\" + 0.009*\"premier\" + 0.009*\"unit\"\n",
      "Topic: 5 \n",
      "Words: 0.027*\"elect\" + 0.023*\"south\" + 0.017*\"final\" + 0.016*\"open\" + 0.014*\"australia\" + 0.013*\"nation\" + 0.011*\"park\" + 0.010*\"australian\" + 0.010*\"budget\" + 0.010*\"polit\"\n",
      "Topic: 6 \n",
      "Words: 0.017*\"brisban\" + 0.016*\"famili\" + 0.014*\"child\" + 0.013*\"report\" + 0.013*\"jail\" + 0.011*\"abus\" + 0.011*\"sentenc\" + 0.011*\"show\" + 0.010*\"hold\" + 0.010*\"victim\"\n",
      "Topic: 7 \n",
      "Words: 0.023*\"hous\" + 0.019*\"die\" + 0.015*\"home\" + 0.014*\"crash\" + 0.014*\"break\" + 0.013*\"take\" + 0.013*\"perth\" + 0.011*\"lead\" + 0.010*\"near\" + 0.009*\"road\"\n",
      "Topic: 8 \n",
      "Words: 0.035*\"polic\" + 0.018*\"interview\" + 0.018*\"health\" + 0.018*\"miss\" + 0.014*\"investig\" + 0.013*\"concern\" + 0.011*\"search\" + 0.011*\"servic\" + 0.011*\"call\" + 0.011*\"hear\"\n",
      "Topic: 9 \n",
      "Words: 0.032*\"charg\" + 0.030*\"court\" + 0.023*\"murder\" + 0.022*\"polic\" + 0.019*\"face\" + 0.015*\"accus\" + 0.015*\"woman\" + 0.015*\"donald\" + 0.014*\"drug\" + 0.013*\"arrest\"\n"
     ]
    }
   ],
   "source": [
    "for idx, topic in lda_model.print_topics(-1):\n",
    "    print('Topic: {} \\nWords: {}'.format(idx, topic))"
   ]
  },
  {
   "cell_type": "code",
   "execution_count": 44,
   "metadata": {},
   "outputs": [
    {
     "name": "stdout",
     "output_type": "stream",
     "text": [
      "Topic: 0 Word: 0.008*\"grandstand\" + 0.007*\"octob\" + 0.005*\"festiv\" + 0.005*\"univers\" + 0.005*\"music\" + 0.004*\"year\" + 0.004*\"footag\" + 0.004*\"rememb\" + 0.004*\"islam\" + 0.004*\"anzac\"\n",
      "Topic: 1 Word: 0.007*\"friday\" + 0.006*\"thursday\" + 0.006*\"june\" + 0.005*\"say\" + 0.005*\"updat\" + 0.005*\"know\" + 0.005*\"human\" + 0.004*\"grain\" + 0.004*\"scott\" + 0.004*\"data\"\n",
      "Topic: 2 Word: 0.009*\"leagu\" + 0.009*\"final\" + 0.009*\"australia\" + 0.009*\"donald\" + 0.009*\"world\" + 0.006*\"beat\" + 0.006*\"juli\" + 0.006*\"rugbi\" + 0.005*\"win\" + 0.005*\"open\"\n",
      "Topic: 3 Word: 0.015*\"charg\" + 0.014*\"murder\" + 0.014*\"interview\" + 0.012*\"court\" + 0.010*\"podcast\" + 0.009*\"jail\" + 0.009*\"child\" + 0.009*\"alleg\" + 0.008*\"sentenc\" + 0.008*\"accus\"\n",
      "Topic: 4 Word: 0.022*\"rural\" + 0.015*\"news\" + 0.012*\"drum\" + 0.008*\"nation\" + 0.007*\"centr\" + 0.006*\"andrew\" + 0.005*\"dairi\" + 0.005*\"detent\" + 0.004*\"shop\" + 0.004*\"homeless\"\n",
      "Topic: 5 Word: 0.008*\"sport\" + 0.008*\"christma\" + 0.007*\"health\" + 0.007*\"michael\" + 0.006*\"mental\" + 0.006*\"ash\" + 0.006*\"stori\" + 0.006*\"august\" + 0.005*\"fund\" + 0.005*\"care\"\n",
      "Topic: 6 Word: 0.015*\"crash\" + 0.015*\"polic\" + 0.012*\"kill\" + 0.009*\"woman\" + 0.009*\"die\" + 0.009*\"dead\" + 0.009*\"miss\" + 0.008*\"shoot\" + 0.008*\"search\" + 0.008*\"death\"\n",
      "Topic: 7 Word: 0.012*\"market\" + 0.008*\"turnbul\" + 0.007*\"share\" + 0.006*\"rise\" + 0.006*\"price\" + 0.005*\"coast\" + 0.005*\"water\" + 0.005*\"septemb\" + 0.005*\"australian\" + 0.005*\"dollar\"\n",
      "Topic: 8 Word: 0.022*\"countri\" + 0.020*\"hour\" + 0.018*\"trump\" + 0.011*\"elect\" + 0.010*\"govern\" + 0.007*\"abbott\" + 0.006*\"labor\" + 0.006*\"say\" + 0.006*\"malcolm\" + 0.005*\"liber\"\n",
      "Topic: 9 Word: 0.008*\"weather\" + 0.007*\"farm\" + 0.007*\"marriag\" + 0.006*\"energi\" + 0.005*\"hunter\" + 0.005*\"coal\" + 0.005*\"queensland\" + 0.005*\"john\" + 0.005*\"peter\" + 0.004*\"korea\"\n"
     ]
    }
   ],
   "source": [
    "lda_model_tfidf = gensim.models.LdaMulticore(corpus_tfidf, num_topics=10, id2word=dictionary, passes=2, workers=4)\n",
    "for idx, topic in lda_model_tfidf.print_topics(-1):\n",
    "    print('Topic: {} Word: {}'.format(idx, topic))"
   ]
  },
  {
   "cell_type": "code",
   "execution_count": 45,
   "metadata": {},
   "outputs": [
    {
     "name": "stdout",
     "output_type": "stream",
     "text": [
      "\n",
      "Score: 0.5856690406799316\t \n",
      "Topic: 0.008*\"weather\" + 0.007*\"farm\" + 0.007*\"marriag\" + 0.006*\"energi\" + 0.005*\"hunter\" + 0.005*\"coal\" + 0.005*\"queensland\" + 0.005*\"john\" + 0.005*\"peter\" + 0.004*\"korea\"\n",
      "\n",
      "Score: 0.25430071353912354\t \n",
      "Topic: 0.009*\"leagu\" + 0.009*\"final\" + 0.009*\"australia\" + 0.009*\"donald\" + 0.009*\"world\" + 0.006*\"beat\" + 0.006*\"juli\" + 0.006*\"rugbi\" + 0.005*\"win\" + 0.005*\"open\"\n",
      "\n",
      "Score: 0.020005833357572556\t \n",
      "Topic: 0.012*\"market\" + 0.008*\"turnbul\" + 0.007*\"share\" + 0.006*\"rise\" + 0.006*\"price\" + 0.005*\"coast\" + 0.005*\"water\" + 0.005*\"septemb\" + 0.005*\"australian\" + 0.005*\"dollar\"\n",
      "\n",
      "Score: 0.020004671066999435\t \n",
      "Topic: 0.015*\"crash\" + 0.015*\"polic\" + 0.012*\"kill\" + 0.009*\"woman\" + 0.009*\"die\" + 0.009*\"dead\" + 0.009*\"miss\" + 0.008*\"shoot\" + 0.008*\"search\" + 0.008*\"death\"\n",
      "\n",
      "Score: 0.020004665479063988\t \n",
      "Topic: 0.022*\"rural\" + 0.015*\"news\" + 0.012*\"drum\" + 0.008*\"nation\" + 0.007*\"centr\" + 0.006*\"andrew\" + 0.005*\"dairi\" + 0.005*\"detent\" + 0.004*\"shop\" + 0.004*\"homeless\"\n",
      "\n",
      "Score: 0.020004447549581528\t \n",
      "Topic: 0.008*\"sport\" + 0.008*\"christma\" + 0.007*\"health\" + 0.007*\"michael\" + 0.006*\"mental\" + 0.006*\"ash\" + 0.006*\"stori\" + 0.006*\"august\" + 0.005*\"fund\" + 0.005*\"care\"\n",
      "\n",
      "Score: 0.02000427059829235\t \n",
      "Topic: 0.007*\"friday\" + 0.006*\"thursday\" + 0.006*\"june\" + 0.005*\"say\" + 0.005*\"updat\" + 0.005*\"know\" + 0.005*\"human\" + 0.004*\"grain\" + 0.004*\"scott\" + 0.004*\"data\"\n",
      "\n",
      "Score: 0.02000289224088192\t \n",
      "Topic: 0.008*\"grandstand\" + 0.007*\"octob\" + 0.005*\"festiv\" + 0.005*\"univers\" + 0.005*\"music\" + 0.004*\"year\" + 0.004*\"footag\" + 0.004*\"rememb\" + 0.004*\"islam\" + 0.004*\"anzac\"\n",
      "\n",
      "Score: 0.02000187151134014\t \n",
      "Topic: 0.015*\"charg\" + 0.014*\"murder\" + 0.014*\"interview\" + 0.012*\"court\" + 0.010*\"podcast\" + 0.009*\"jail\" + 0.009*\"child\" + 0.009*\"alleg\" + 0.008*\"sentenc\" + 0.008*\"accus\"\n",
      "\n",
      "Score: 0.020001612603664398\t \n",
      "Topic: 0.022*\"countri\" + 0.020*\"hour\" + 0.018*\"trump\" + 0.011*\"elect\" + 0.010*\"govern\" + 0.007*\"abbott\" + 0.006*\"labor\" + 0.006*\"say\" + 0.006*\"malcolm\" + 0.005*\"liber\"\n"
     ]
    }
   ],
   "source": [
    "for index, score in sorted(lda_model_tfidf[bow_corpus[4310]], key=lambda tup: -1*tup[1]):\n",
    "    print(\"\\nScore: {}\\t \\nTopic: {}\".format(score, lda_model_tfidf.print_topic(index, 10)))"
   ]
  },
  {
   "cell_type": "code",
   "execution_count": 46,
   "metadata": {},
   "outputs": [
    {
     "name": "stdout",
     "output_type": "stream",
     "text": [
      "Score: 0.34999993443489075\t Topic: 0.032*\"charg\" + 0.030*\"court\" + 0.023*\"murder\" + 0.022*\"polic\" + 0.019*\"face\"\n",
      "Score: 0.3499816358089447\t Topic: 0.027*\"elect\" + 0.023*\"south\" + 0.017*\"final\" + 0.016*\"open\" + 0.014*\"australia\"\n",
      "Score: 0.18333332240581512\t Topic: 0.017*\"brisban\" + 0.016*\"famili\" + 0.014*\"child\" + 0.013*\"report\" + 0.013*\"jail\"\n",
      "Score: 0.016679609194397926\t Topic: 0.035*\"trump\" + 0.022*\"kill\" + 0.021*\"north\" + 0.020*\"coast\" + 0.016*\"china\"\n",
      "Score: 0.01667213998734951\t Topic: 0.027*\"govern\" + 0.017*\"plan\" + 0.014*\"council\" + 0.013*\"rural\" + 0.013*\"say\"\n",
      "Score: 0.01666666753590107\t Topic: 0.032*\"queensland\" + 0.020*\"countri\" + 0.018*\"hospit\" + 0.017*\"tasmanian\" + 0.017*\"hour\"\n",
      "Score: 0.01666666753590107\t Topic: 0.030*\"australia\" + 0.023*\"world\" + 0.017*\"market\" + 0.014*\"sydney\" + 0.012*\"record\"\n",
      "Score: 0.01666666753590107\t Topic: 0.017*\"tasmania\" + 0.015*\"time\" + 0.015*\"fight\" + 0.014*\"leagu\" + 0.014*\"lose\"\n",
      "Score: 0.01666666753590107\t Topic: 0.023*\"hous\" + 0.019*\"die\" + 0.015*\"home\" + 0.014*\"crash\" + 0.014*\"break\"\n",
      "Score: 0.01666666753590107\t Topic: 0.035*\"polic\" + 0.018*\"interview\" + 0.018*\"health\" + 0.018*\"miss\" + 0.014*\"investig\"\n"
     ]
    }
   ],
   "source": [
    "unseen_document = 'How a Pentagon deal became an identity crisis for Google'\n",
    "bow_vector = dictionary.doc2bow(preprocess(unseen_document))\n",
    "for index, score in sorted(lda_model[bow_vector], key=lambda tup: -1*tup[1]):\n",
    "    print(\"Score: {}\\t Topic: {}\".format(score, lda_model.print_topic(index, 5)))"
   ]
  },
  {
   "cell_type": "code",
   "execution_count": null,
   "metadata": {},
   "outputs": [],
   "source": []
  }
 ],
 "metadata": {
  "kernelspec": {
   "display_name": "Python 3",
   "language": "python",
   "name": "python3"
  },
  "language_info": {
   "codemirror_mode": {
    "name": "ipython",
    "version": 3
   },
   "file_extension": ".py",
   "mimetype": "text/x-python",
   "name": "python",
   "nbconvert_exporter": "python",
   "pygments_lexer": "ipython3",
   "version": "3.7.1"
  }
 },
 "nbformat": 4,
 "nbformat_minor": 2
}
